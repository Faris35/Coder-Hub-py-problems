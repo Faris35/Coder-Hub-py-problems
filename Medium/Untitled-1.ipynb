{
 "cells": [
  {
   "cell_type": "code",
   "execution_count": null,
   "metadata": {},
   "outputs": [],
   "source": [
    "cube = lambda x: x**3  # complete the lambda function\n",
    "\n",
    "def fibonacci(n):\n",
    "    # return a list of fibonacci numbers\n",
    "    if n == 0:\n",
    "        return []\n",
    "    elif n == 1:\n",
    "        return [0]\n",
    "    fib = [0, 1]\n",
    "    for i in range(2, n):\n",
    "        fib.append(fib[i-1] + fib[i-2])\n",
    "    return fib\n",
    "\n",
    "if __name__ == '__main__':\n",
    "    n = int(input())\n",
    "    print(list(map(cube, fibonacci(n))))"
   ]
  },
  {
   "cell_type": "code",
   "execution_count": 25,
   "metadata": {},
   "outputs": [
    {
     "name": "stdout",
     "output_type": "stream",
     "text": [
      "3\n"
     ]
    }
   ],
   "source": [
    "def max_element(arr: list[int]) -> int:\n",
    "    return sorted(arr)[-1]\n",
    "\n",
    "print(max_element([1,1,1,2,3,2]))"
   ]
  },
  {
   "cell_type": "code",
   "execution_count": 5,
   "metadata": {},
   "outputs": [],
   "source": [
    "def cumulative_sum(arr: list[int]) -> list[int]:\n",
    "    cum_sum = []\n",
    "    current_sum = 0\n",
    "    for num in arr:\n",
    "        current_sum += num\n",
    "        cum_sum.append(current_sum)\n",
    "    return cum_sum"
   ]
  },
  {
   "cell_type": "code",
   "execution_count": 18,
   "metadata": {},
   "outputs": [],
   "source": [
    "def hasSpace(strParam: str) -> str:\n",
    "    return strParam.replace(' ','#')"
   ]
  },
  {
   "cell_type": "code",
   "execution_count": 20,
   "metadata": {},
   "outputs": [
    {
     "name": "stdout",
     "output_type": "stream",
     "text": [
      "helloworld\n"
     ]
    }
   ],
   "source": [
    "print(hasSpace('helloworld'))"
   ]
  },
  {
   "cell_type": "code",
   "execution_count": null,
   "metadata": {},
   "outputs": [],
   "source": [
    "\n",
    "def most_frequent_element(arr: list[int]) -> int:\n",
    "    return max(set(arr), key=arr.count)"
   ]
  },
  {
   "cell_type": "code",
   "execution_count": 29,
   "metadata": {},
   "outputs": [],
   "source": [
    "def unique(arr: list[int]) -> list[int]:\n",
    "    return [i for i in arr if arr.count(i) == 1]"
   ]
  },
  {
   "cell_type": "code",
   "execution_count": 30,
   "metadata": {},
   "outputs": [
    {
     "name": "stdout",
     "output_type": "stream",
     "text": [
      "[2, 8]\n"
     ]
    }
   ],
   "source": [
    "arr = [2, 4, 4, 8]\n",
    "print(unique(arr))"
   ]
  },
  {
   "cell_type": "code",
   "execution_count": 3,
   "metadata": {},
   "outputs": [],
   "source": [
    "def cap_space(txt: str) -> str:\n",
    "    return ''.join([' ' + i.lower() if i.isupper() else i for i in txt])"
   ]
  },
  {
   "cell_type": "code",
   "execution_count": 4,
   "metadata": {},
   "outputs": [
    {
     "data": {
      "text/plain": [
       "'w e  p l a y  t e n n i s'"
      ]
     },
     "execution_count": 4,
     "metadata": {},
     "output_type": "execute_result"
    }
   ],
   "source": [
    "cap_space('wePlayTennis')"
   ]
  },
  {
   "cell_type": "code",
   "execution_count": 5,
   "metadata": {},
   "outputs": [],
   "source": [
    "def middle_char(word: str) -> str:\n",
    "    if len(word) <= 2:\n",
    "        return word\n",
    "    len1 = int(len(word)/2)\n",
    "    if len(word)%2==0:\n",
    "        return word[len1-1:len1+1]\n",
    "    return word[len1]"
   ]
  },
  {
   "cell_type": "code",
   "execution_count": 6,
   "metadata": {},
   "outputs": [
    {
     "name": "stdout",
     "output_type": "stream",
     "text": [
      "l\n"
     ]
    }
   ],
   "source": [
    "word = 'salem'\n",
    "print(middle_char(word))"
   ]
  },
  {
   "cell_type": "code",
   "execution_count": 21,
   "metadata": {},
   "outputs": [],
   "source": [
    "from typing import List\n",
    "def find_prefix(words: List[str], text: str) -> List[str]:\n",
    "    lst=[]\n",
    "    for i in words:\n",
    "        if i.lower().startswith(text.lower()):\n",
    "            lst.append(i)\n",
    "    return lst if lst else ['No matches found']"
   ]
  },
  {
   "cell_type": "code",
   "execution_count": 23,
   "metadata": {},
   "outputs": [
    {
     "name": "stdout",
     "output_type": "stream",
     "text": [
      "['No matches found']\n"
     ]
    }
   ],
   "source": [
    "words = ['Save', 'Saudi', 'Satr', 'Send', 'Salt', 'Super', 'Sample']\n",
    "text = 'sda'\n",
    "\n",
    "print(find_prefix(words,text))"
   ]
  },
  {
   "cell_type": "code",
   "execution_count": 13,
   "metadata": {},
   "outputs": [
    {
     "name": "stdout",
     "output_type": "stream",
     "text": [
      "[0, 1]\n"
     ]
    }
   ],
   "source": [
    "# Define a lambda function to cube a number\n",
    "def fibonacci(n, fib=[0, 1]):\n",
    "    # Return a list of fibonacci numbers in a recursive way\n",
    "    if n <= len(fib):\n",
    "        # If the requested length is less than or equal to the current list length, return the list up to n elements\n",
    "        return fib[:n]\n",
    "    else:\n",
    "        # Otherwise, append the next Fibonacci number to the list\n",
    "        fib.append(fib[-1] + fib[-2])\n",
    "        # Recursively call the function until the list is of length n\n",
    "        return fibonacci(n, fib)\n",
    "\n",
    "if __name__ == '__main__':\n",
    "    # Read an integer input from the user\n",
    "    n = int(input())\n",
    "    # Print the list of cubed Fibonacci numbers\n",
    "    print(list((fibonacci(n))))\n"
   ]
  },
  {
   "cell_type": "code",
   "execution_count": null,
   "metadata": {},
   "outputs": [],
   "source": [
    "cube = lambda x: x**3 \n",
    "mylist = []\n",
    "\n",
    "def fibonacci(n):\n",
    "    if n <= 1:\n",
    "        mylist.append(n)\n",
    "        return mylist\n",
    "    else:\n",
    "       return fibonacci(n-1) + fibonacci(n-2)\n",
    "\n",
    "n = int(input())\n",
    "print(fibonacci(8))"
   ]
  }
 ],
 "metadata": {
  "kernelspec": {
   "display_name": "base",
   "language": "python",
   "name": "python3"
  },
  "language_info": {
   "codemirror_mode": {
    "name": "ipython",
    "version": 3
   },
   "file_extension": ".py",
   "mimetype": "text/x-python",
   "name": "python",
   "nbconvert_exporter": "python",
   "pygments_lexer": "ipython3",
   "version": "3.11.5"
  }
 },
 "nbformat": 4,
 "nbformat_minor": 2
}
